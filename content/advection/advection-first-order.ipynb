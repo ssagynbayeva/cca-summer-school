{
 "cells": [
  {
   "cell_type": "markdown",
   "id": "8cf02920-1dd7-418b-b897-511eee90077b",
   "metadata": {
    "user_expressions": []
   },
   "source": [
    "# Implementing First Order Advection\n",
    "\n",
    "We now have all the pieces needed to implement first-order accurate advection."
   ]
  },
  {
   "cell_type": "code",
   "execution_count": 2,
   "id": "f6fea08e-47c1-4e12-9fb2-fe564378c9ae",
   "metadata": {
    "tags": []
   },
   "outputs": [],
   "source": [
    "import numpy as np\n",
    "import matplotlib.pyplot as plt"
   ]
  },
  {
   "cell_type": "markdown",
   "id": "090f1649-e823-425c-ab5f-01ca212f6b64",
   "metadata": {
    "user_expressions": []
   },
   "source": [
    "For convenience, the grid module we already saw can by imported"
   ]
  },
  {
   "cell_type": "code",
   "execution_count": 3,
   "id": "b11a6867-cbdc-4e5c-b87d-a96898ecf303",
   "metadata": {
    "tags": []
   },
   "outputs": [],
   "source": [
    "import fv_grid"
   ]
  },
  {
   "cell_type": "markdown",
   "id": "ef98f8f0-d3ae-4576-bda1-356bedca0def",
   "metadata": {
    "user_expressions": []
   },
   "source": [
    "Now we'll write our driver.  We'll take as input:\n",
    "\n",
    "* `nx` : the number of zones\n",
    "* `u` : the advective velocity (we'll assume $u > 0$)\n",
    "* `C` : the CFL number\n",
    "\n",
    "we can also specify the number of periods and pass in the function that supplies the initial conditions"
   ]
  },
  {
   "cell_type": "code",
   "execution_count": null,
   "id": "7c45fa53-1f20-411c-a925-7db998f433ad",
   "metadata": {},
   "outputs": [],
   "source": [
    "def advection(nx, u, C, num_periods=1, init_cond=None):\n",
    "    \n",
    "    # create the grid\n",
    "    g = fv_grid.FVGrid(nx, ng=1)\n",
    "    \n",
    "    # compute the stop time\n",
    "    t_period = (g.xmax - g.xmin) / np.abs(u)\n",
    "    tmax = num_periods * t_period\n",
    "    \n",
    "    # setup the initial conditions and store them for later\n",
    "    # plotting\n",
    "    init_cond(g)\n",
    "    g.ainit[:] = g.a[:]\n",
    "    \n",
    "    # compute the timestep\n",
    "    dt = C * g.dx / np.abs(u)\n",
    "    \n",
    "    # evolution loop\n",
    "    t = 0.0\n",
    "    while t < tmax:\n",
    "        if t + dt > tmax:\n",
    "            dt = tmax - t\n",
    "            \n",
    "        # get the interface states -- just piecewise constant\n",
    "        \n",
    "        # solve the Riemann problem\n",
    "        \n",
    "        # compute the fluxes\n",
    "        \n",
    "        # conservative update"
   ]
  }
 ],
 "metadata": {
  "kernelspec": {
   "display_name": "Python 3 (ipykernel)",
   "language": "python",
   "name": "python3"
  },
  "language_info": {
   "codemirror_mode": {
    "name": "ipython",
    "version": 3
   },
   "file_extension": ".py",
   "mimetype": "text/x-python",
   "name": "python",
   "nbconvert_exporter": "python",
   "pygments_lexer": "ipython3",
   "version": "3.11.4"
  }
 },
 "nbformat": 4,
 "nbformat_minor": 5
}
