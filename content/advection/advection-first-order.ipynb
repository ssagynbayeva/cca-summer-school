{
 "cells": [
  {
   "cell_type": "markdown",
   "id": "8cf02920-1dd7-418b-b897-511eee90077b",
   "metadata": {
    "user_expressions": []
   },
   "source": [
    "# Implementing First Order Advection\n",
    "\n",
    "We now have all the pieces needed to implement first-order accurate advection."
   ]
  },
  {
   "cell_type": "code",
   "execution_count": 4,
   "id": "f6fea08e-47c1-4e12-9fb2-fe564378c9ae",
   "metadata": {
    "tags": []
   },
   "outputs": [],
   "source": [
    "import numpy as np\n",
    "import matplotlib.pyplot as plt"
   ]
  },
  {
   "cell_type": "markdown",
   "id": "090f1649-e823-425c-ab5f-01ca212f6b64",
   "metadata": {
    "user_expressions": []
   },
   "source": [
    "For convenience, the grid module we already saw can by imported"
   ]
  },
  {
   "cell_type": "code",
   "execution_count": 5,
   "id": "b11a6867-cbdc-4e5c-b87d-a96898ecf303",
   "metadata": {
    "tags": []
   },
   "outputs": [],
   "source": [
    "import fv_grid"
   ]
  },
  {
   "cell_type": "markdown",
   "id": "ef98f8f0-d3ae-4576-bda1-356bedca0def",
   "metadata": {
    "user_expressions": []
   },
   "source": [
    "Now we'll write our driver.  We'll take as input:\n",
    "\n",
    "* `nx` : the number of zones\n",
    "* `u` : the advective velocity\n",
    "* `C` : the CFL number\n",
    "\n",
    "we can also specify the number of periods and pass in the function that supplies the initial conditions"
   ]
  },
  {
   "cell_type": "code",
   "execution_count": 22,
   "id": "7c45fa53-1f20-411c-a925-7db998f433ad",
   "metadata": {},
   "outputs": [],
   "source": [
    "def advection(nx, u, C, num_periods=1, init_cond=None):\n",
    "    \n",
    "    # create the grid\n",
    "    g = fv_grid.FVGrid(nx, ng=1)\n",
    "    \n",
    "    # compute the stop time\n",
    "    t_period = (g.xmax - g.xmin) / np.abs(u)\n",
    "    tmax = num_periods * t_period\n",
    "    \n",
    "    # setup the initial conditions and store them for later\n",
    "    # plotting\n",
    "    init_cond(g)\n",
    "    g.ainit[:] = g.a[:]\n",
    "    \n",
    "    # compute the timestep\n",
    "    dt = C * g.dx / np.abs(u)\n",
    "    \n",
    "    # evolution loop\n",
    "    t = 0.0\n",
    "    while t < tmax:\n",
    "        if t + dt > tmax:\n",
    "            dt = tmax - t\n",
    "\n",
    "        g.fill_BCs(g.a)\n",
    "        \n",
    "        # get the interface states -- just piecewise constant -- we need\n",
    "        # an interface state on each boundary, so for nx zones there are\n",
    "        # nx + 1 interface states\n",
    "        \n",
    "        aleft = g.scratch_array()\n",
    "        aleft[g.ilo:g.ihi+2] = g.a[g.ilo-1:g.ihi+1]\n",
    "        \n",
    "        aright = g.scratch_array()\n",
    "        aright[g.ilo:g.ihi+2] = g.a[g.ilo:g.ihi+2]\n",
    "        \n",
    "        # solve the Riemann problem -- just upwinding\n",
    "        aint = np.where(u > 0, aleft, aright)\n",
    "\n",
    "        # compute the fluxes\n",
    "        flux = u * aint\n",
    "\n",
    "        # conservative update\n",
    "        g.a[g.ilo:g.ihi+1] += -dt/g.dx * (flux[g.ilo+1:g.ihi+2] - flux[g.ilo:g.ihi+1])\n",
    "\n",
    "        t += dt\n",
    "        \n",
    "    return g"
   ]
  },
  {
   "cell_type": "markdown",
   "id": "7be3aeb2-db33-49db-8aa7-c5958745c9a7",
   "metadata": {},
   "source": [
    "We need to supply a function that provides the initial conditions.  It has the signature:\n",
    "```\n",
    "init_cond(FVGrid)\n",
    "```\n",
    "\n",
    "First up: the tophat"
   ]
  },
  {
   "cell_type": "code",
   "execution_count": 29,
   "id": "09e3f6af-7839-4c1e-849e-ba1127afaf65",
   "metadata": {},
   "outputs": [],
   "source": [
    "def tophat(g):\n",
    "    g.a[:] = 0.0\n",
    "    g.a[np.logical_and(g.x >= 1./3, g.x <= 2./3.)] = 1.0"
   ]
  },
  {
   "cell_type": "markdown",
   "id": "abd1fc99-3ab5-4e7c-9f1c-f4cec783776d",
   "metadata": {},
   "source": [
    "Now we'll run it."
   ]
  },
  {
   "cell_type": "code",
   "execution_count": 30,
   "id": "f64aef18-ea6f-47e5-ad5b-b370e1a7b204",
   "metadata": {},
   "outputs": [],
   "source": [
    "nx = 32\n",
    "u = 1\n",
    "C = 0.8"
   ]
  },
  {
   "cell_type": "code",
   "execution_count": 31,
   "id": "abd4b8ad-a809-4378-a154-c16ea1843589",
   "metadata": {},
   "outputs": [],
   "source": [
    "g = advection(nx, u, C, init_cond=tophat)"
   ]
  },
  {
   "cell_type": "code",
   "execution_count": 32,
   "id": "da1460f5-9551-47fb-b3f0-fb2785deb451",
   "metadata": {},
   "outputs": [
    {
     "data": {
      "image/png": "[encoded data removed]",
      "text/plain": [
       "<Figure size 640x480 with 1 Axes>"
      ]
     },
     "metadata": {},
     "output_type": "display_data"
    }
   ],
   "source": [
    "fig = g.plot()"
   ]
  },
  {
   "cell_type": "code",
   "execution_count": null,
   "id": "5ba4fda5-356e-4928-b00e-36894d25c6d2",
   "metadata": {},
   "outputs": [],
   "source": []
  }
 ],
 "metadata": {
  "kernelspec": {
   "display_name": "Python 3 (ipykernel)",
   "language": "python",
   "name": "python3"
  },
  "language_info": {
   "codemirror_mode": {
    "name": "ipython",
    "version": 3
   },
   "file_extension": ".py",
   "mimetype": "text/x-python",
   "name": "python",
   "nbconvert_exporter": "python",
   "pygments_lexer": "ipython3",
   "version": "3.11.3"
  }
 },
 "nbformat": 4,
 "nbformat_minor": 5
}
